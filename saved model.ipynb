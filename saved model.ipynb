{
  "nbformat": 4,
  "nbformat_minor": 0,
  "metadata": {
    "colab": {
      "provenance": []
    },
    "kernelspec": {
      "name": "python3",
      "display_name": "Python 3"
    },
    "language_info": {
      "name": "python"
    }
  },
  "cells": [
    {
      "cell_type": "markdown",
      "source": [
        "IMPORT LIBRARIES\n"
      ],
      "metadata": {
        "id": "tyG7jWIn__QY"
      }
    },
    {
      "cell_type": "code",
      "execution_count": 1,
      "metadata": {
        "id": "DwqearH0_6fk"
      },
      "outputs": [],
      "source": [
        "import numpy as np\n",
        "import tensorflow as tf\n",
        "from tensorflow.keras import layers, models\n",
        "from tensorflow.keras.applications import ResNet50\n",
        "from tensorflow.keras.preprocessing.image import ImageDataGenerator\n",
        "from sklearn.model_selection import train_test_split\n",
        "import matplotlib.pyplot as plt\n",
        "import cv2\n",
        "import os\n"
      ]
    },
    {
      "cell_type": "code",
      "source": [
        "# prompt: read csv file named age_gender.csv\n",
        "\n",
        "import pandas as pd\n",
        "df = pd.read_csv('age_gender.csv')\n"
      ],
      "metadata": {
        "id": "_keJcvFVEX5R"
      },
      "execution_count": 5,
      "outputs": []
    },
    {
      "cell_type": "markdown",
      "source": [
        "DATA LOADING AND PRECESSING\n"
      ],
      "metadata": {
        "id": "pR1sv2p8ALEU"
      }
    },
    {
      "cell_type": "code",
      "source": [
        "# Define paths\n",
        "dataset_path = 'df'\n",
        "image_size = (224, 224)\n",
        "batch_size = 32\n",
        "\n",
        "# Data augmentation and normalization\n",
        "datagen = ImageDataGenerator(\n",
        "    rescale=1./255,\n",
        "    validation_split=0.2,\n",
        "    horizontal_flip=True,\n",
        "    zoom_range=0.2\n",
        ")\n",
        "\n",
        "# Load data with ImageDataGenerator\n",
        "train_generator = datagen.flow_from_directory(\n",
        "    dataset_path,\n",
        "    target_size=image_size,\n",
        "    batch_size=batch_size,\n",
        "    class_mode='sparse',\n",
        "    subset='training'\n",
        ")\n",
        "\n",
        "validation_generator = datagen.flow_from_directory(\n",
        "    dataset_path,\n",
        "    target_size=image_size,\n",
        "    batch_size=batch_size,\n",
        "    class_mode='sparse',\n",
        "    subset='validation'\n",
        ")\n"
      ],
      "metadata": {
        "id": "WFJKZygpAHjA"
      },
      "execution_count": null,
      "outputs": []
    },
    {
      "cell_type": "markdown",
      "source": [
        "MODEL BUILDING\n"
      ],
      "metadata": {
        "id": "TgSitR5dAS-G"
      }
    },
    {
      "cell_type": "code",
      "source": [
        "# Load the ResNet50 model with pre-trained weights\n",
        "base_model = ResNet50(weights='imagenet', include_top=False, input_shape=(224, 224, 3))\n",
        "\n",
        "# Freeze the base model layers\n",
        "for layer in base_model.layers:\n",
        "    layer.trainable = False\n",
        "\n",
        "# Add custom layers on top of ResNet50\n",
        "model = models.Sequential([\n",
        "    base_model,\n",
        "    layers.GlobalAveragePooling2D(),\n",
        "    layers.Dense(1024, activation='relu'),\n",
        "    layers.Dropout(0.5),\n",
        "    layers.Dense(1, activation='linear')  # Regression for age prediction\n",
        "])\n",
        "\n",
        "model.compile(optimizer=tf.keras.optimizers.Adam(learning_rate=0.0001),\n",
        "              loss='mean_squared_error',\n",
        "              metrics=['mean_absolute_error'])\n",
        "\n",
        "model.summary()\n"
      ],
      "metadata": {
        "id": "d6FF5sULAWMy"
      },
      "execution_count": null,
      "outputs": []
    },
    {
      "cell_type": "markdown",
      "source": [
        "MODEL TRAINING\n"
      ],
      "metadata": {
        "id": "byEuNUYcAZUB"
      }
    },
    {
      "cell_type": "code",
      "source": [
        "# Train the model\n",
        "history = model.fit(\n",
        "    train_generator,\n",
        "    validation_data=validation_generator,\n",
        "    epochs=10\n",
        ")\n"
      ],
      "metadata": {
        "id": "dgxP55tOAc9K"
      },
      "execution_count": null,
      "outputs": []
    },
    {
      "cell_type": "markdown",
      "source": [
        "EVALUATION AND VISUALIZATION"
      ],
      "metadata": {
        "id": "w7vABKHbAfPv"
      }
    },
    {
      "cell_type": "code",
      "source": [
        "# Evaluate on the validation set\n",
        "val_loss, val_mae = model.evaluate(validation_generator)\n",
        "print(f'Validation MAE: {val_mae:.2f}')\n",
        "\n",
        "# Plot training & validation loss and MAE\n",
        "plt.figure(figsize=(12, 4))\n",
        "\n",
        "plt.subplot(1, 2, 1)\n",
        "plt.plot(history.history['loss'], label='Training Loss')\n",
        "plt.plot(history.history['val_loss'], label='Validation Loss')\n",
        "plt.legend()\n",
        "plt.title('Training and Validation Loss')\n",
        "\n",
        "plt.subplot(1, 2, 2)\n",
        "plt.plot(history.history['mean_absolute_error'], label='Training MAE')\n",
        "plt.plot(history.history['val_mean_absolute_error'], label='Validation MAE')\n",
        "plt.legend()\n",
        "plt.title('Training and Validation MAE')\n",
        "\n",
        "plt.show()\n"
      ],
      "metadata": {
        "id": "vr7cfHxOAljL"
      },
      "execution_count": null,
      "outputs": []
    },
    {
      "cell_type": "markdown",
      "source": [
        "REAL TIME IESTING"
      ],
      "metadata": {
        "id": "fElPSBGkAqgj"
      }
    },
    {
      "cell_type": "code",
      "source": [
        "# Load the model\n",
        "model = tf.keras.models.load_model('path/to/your/saved_model')\n",
        "\n",
        "# Real-time age prediction\n",
        "cap = cv2.VideoCapture(0)\n",
        "\n",
        "while True:\n",
        "    ret, frame = cap.read()\n",
        "    if not ret:\n",
        "        break\n",
        "\n",
        "    # Preprocess the image\n",
        "    img = cv2.resize(frame, image_size)\n",
        "    img = np.expand_dims(img, axis=0)\n",
        "    img = img / 255.0\n",
        "\n",
        "    # Predict age\n",
        "    predicted_age = model.predict(img)\n",
        "    predicted_age = int(predicted_age[0][0])\n",
        "\n",
        "    # Display the result\n",
        "    cv2.putText(frame, f'Predicted Age: {predicted_age}', (50, 50), cv2.FONT_HERSHEY_SIMPLEX, 1, (0, 255, 0), 2)\n",
        "    cv2.imshow('Age Detection', frame)\n",
        "\n",
        "    if cv2.waitKey(1) & 0xFF == ord('q'):\n",
        "        break\n",
        "\n",
        "cap.release()\n",
        "cv2.destroyAllWindows()\n"
      ],
      "metadata": {
        "id": "v0P85_8DAtNP"
      },
      "execution_count": null,
      "outputs": []
    },
    {
      "cell_type": "markdown",
      "source": [
        "SAVE MODEL"
      ],
      "metadata": {
        "id": "z6J82-NtAuou"
      }
    },
    {
      "cell_type": "code",
      "source": [
        "model.save('age_detection_model.h5')\n"
      ],
      "metadata": {
        "id": "88MlRp99AwHP"
      },
      "execution_count": null,
      "outputs": []
    }
  ]
}